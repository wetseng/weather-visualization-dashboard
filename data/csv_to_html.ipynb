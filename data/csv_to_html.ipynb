{
 "cells": [
  {
   "cell_type": "code",
   "execution_count": 1,
   "metadata": {},
   "outputs": [],
   "source": [
    "import pandas as pd\n",
    "import pathlib\n"
   ]
  },
  {
   "cell_type": "code",
   "execution_count": 3,
   "metadata": {},
   "outputs": [
    {
     "data": {
      "text/html": [
       "<div>\n",
       "<style scoped>\n",
       "    .dataframe tbody tr th:only-of-type {\n",
       "        vertical-align: middle;\n",
       "    }\n",
       "\n",
       "    .dataframe tbody tr th {\n",
       "        vertical-align: top;\n",
       "    }\n",
       "\n",
       "    .dataframe thead th {\n",
       "        text-align: right;\n",
       "    }\n",
       "</style>\n",
       "<table border=\"1\" class=\"dataframe\">\n",
       "  <thead>\n",
       "    <tr style=\"text-align: right;\">\n",
       "      <th></th>\n",
       "      <th>City</th>\n",
       "      <th>Lat</th>\n",
       "      <th>Lng</th>\n",
       "      <th>Max Temp</th>\n",
       "      <th>Humidity</th>\n",
       "      <th>Cloudiness</th>\n",
       "      <th>Wind Speed</th>\n",
       "      <th>Country</th>\n",
       "      <th>Date</th>\n",
       "    </tr>\n",
       "  </thead>\n",
       "  <tbody>\n",
       "    <tr>\n",
       "      <th>0</th>\n",
       "      <td>ancud</td>\n",
       "      <td>-41.87</td>\n",
       "      <td>-73.82</td>\n",
       "      <td>284.82</td>\n",
       "      <td>93</td>\n",
       "      <td>75</td>\n",
       "      <td>7.70</td>\n",
       "      <td>CL</td>\n",
       "      <td>1589057451</td>\n",
       "    </tr>\n",
       "    <tr>\n",
       "      <th>1</th>\n",
       "      <td>pangnirtung</td>\n",
       "      <td>66.15</td>\n",
       "      <td>-65.71</td>\n",
       "      <td>272.97</td>\n",
       "      <td>92</td>\n",
       "      <td>100</td>\n",
       "      <td>2.65</td>\n",
       "      <td>CA</td>\n",
       "      <td>1589057692</td>\n",
       "    </tr>\n",
       "    <tr>\n",
       "      <th>2</th>\n",
       "      <td>provideniya</td>\n",
       "      <td>64.38</td>\n",
       "      <td>-173.30</td>\n",
       "      <td>277.12</td>\n",
       "      <td>76</td>\n",
       "      <td>100</td>\n",
       "      <td>11.46</td>\n",
       "      <td>RU</td>\n",
       "      <td>1589057692</td>\n",
       "    </tr>\n",
       "    <tr>\n",
       "      <th>3</th>\n",
       "      <td>praya</td>\n",
       "      <td>14.92</td>\n",
       "      <td>-23.51</td>\n",
       "      <td>296.15</td>\n",
       "      <td>73</td>\n",
       "      <td>75</td>\n",
       "      <td>8.20</td>\n",
       "      <td>CV</td>\n",
       "      <td>1589057417</td>\n",
       "    </tr>\n",
       "    <tr>\n",
       "      <th>4</th>\n",
       "      <td>solnechnyy</td>\n",
       "      <td>50.72</td>\n",
       "      <td>136.63</td>\n",
       "      <td>281.84</td>\n",
       "      <td>59</td>\n",
       "      <td>100</td>\n",
       "      <td>1.11</td>\n",
       "      <td>RU</td>\n",
       "      <td>1589057693</td>\n",
       "    </tr>\n",
       "  </tbody>\n",
       "</table>\n",
       "</div>"
      ],
      "text/plain": [
       "          City    Lat     Lng  Max Temp  Humidity  Cloudiness  Wind Speed  \\\n",
       "0        ancud -41.87  -73.82    284.82        93          75        7.70   \n",
       "1  pangnirtung  66.15  -65.71    272.97        92         100        2.65   \n",
       "2  provideniya  64.38 -173.30    277.12        76         100       11.46   \n",
       "3        praya  14.92  -23.51    296.15        73          75        8.20   \n",
       "4   solnechnyy  50.72  136.63    281.84        59         100        1.11   \n",
       "\n",
       "  Country        Date  \n",
       "0      CL  1589057451  \n",
       "1      CA  1589057692  \n",
       "2      RU  1589057692  \n",
       "3      CV  1589057417  \n",
       "4      RU  1589057693  "
      ]
     },
     "execution_count": 3,
     "metadata": {},
     "output_type": "execute_result"
    }
   ],
   "source": [
    "# File path\n",
    "file_path = pathlib.Path(\"./cities.csv\")\n",
    "\n",
    "org_df = pd.read_csv(file_path, encoding='utf-8')\n",
    "# org_df = org_df.set_index('City_ID')\n",
    "org_df.head()"
   ]
  },
  {
   "cell_type": "code",
   "execution_count": 4,
   "metadata": {},
   "outputs": [],
   "source": [
    "html = org_df.to_html()"
   ]
  },
  {
   "cell_type": "code",
   "execution_count": 5,
   "metadata": {},
   "outputs": [],
   "source": [
    "html_output = open('./html_output.html', 'w')\n",
    "html_output.write(html)\n",
    "html_output.close()"
   ]
  },
  {
   "cell_type": "code",
   "execution_count": null,
   "metadata": {},
   "outputs": [],
   "source": []
  }
 ],
 "metadata": {
  "kernelspec": {
   "display_name": "Python 3",
   "language": "python",
   "name": "python3"
  },
  "language_info": {
   "codemirror_mode": {
    "name": "ipython",
    "version": 3
   },
   "file_extension": ".py",
   "mimetype": "text/x-python",
   "name": "python",
   "nbconvert_exporter": "python",
   "pygments_lexer": "ipython3",
   "version": "3.7.6"
  }
 },
 "nbformat": 4,
 "nbformat_minor": 4
}
